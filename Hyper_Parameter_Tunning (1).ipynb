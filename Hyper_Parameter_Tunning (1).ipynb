{
 "cells": [
  {
   "cell_type": "markdown",
   "id": "b76adfe3",
   "metadata": {},
   "source": [
    "# Hyper Parameter Tunning"
   ]
  },
  {
   "cell_type": "markdown",
   "id": "2a9ac5a5",
   "metadata": {},
   "source": [
    "1.GridSearchCV\n",
    "2. RandomizedSearchCV\n",
    "3. Bayesian Optimization -Automate Hyperparameter Tuning (Hyperopt)\n",
    "4. Sequential Model Based Optimization(Tuning a scikit-learn estimator with skopt)\n",
    "4. Optuna- Automate Hyperparameter Tuning\n",
    "5. Genetic Algorithms (TPOT Classifier)\n",
    "\n",
    "###### References\n",
    "- https://github.com/fmfn/BayesianOptimization\n",
    "- https://github.com/hyperopt/hyperopt\n",
    "- https://www.jeremyjordan.me/hyperparameter-tuning/\n",
    "- https://optuna.org/\n",
    "- https://towardsdatascience.com/hyperparameters-optimization-526348bb8e2d(By Pier Paolo Ippolito )\n",
    "- https://scikit-optimize.github.io/stable/auto_examples/hyperparameter-optimization.html\n"
   ]
  },
  {
   "cell_type": "code",
   "execution_count": 2,
   "id": "10e853db",
   "metadata": {},
   "outputs": [],
   "source": [
    "import pandas as pd\n",
    "import os\n"
   ]
  },
  {
   "cell_type": "code",
   "execution_count": 3,
   "id": "eb946afd",
   "metadata": {},
   "outputs": [
    {
     "data": {
      "text/plain": [
       "'F:\\\\neel\\\\fingertips\\\\python\\\\jupyternotbook'"
      ]
     },
     "execution_count": 3,
     "metadata": {},
     "output_type": "execute_result"
    }
   ],
   "source": [
    "%pwd"
   ]
  },
  {
   "cell_type": "code",
   "execution_count": 4,
   "id": "03a150de",
   "metadata": {},
   "outputs": [],
   "source": [
    "os.chdir(\"F:\\\\neel\\\\fingertips\\\\machine learning\\\\All-Hyperparamter-Optimization-master\")"
   ]
  },
  {
   "cell_type": "code",
   "execution_count": 5,
   "id": "d87b44fd",
   "metadata": {},
   "outputs": [],
   "source": [
    "data = pd.read_csv(\"diabetes.csv\")"
   ]
  },
  {
   "cell_type": "code",
   "execution_count": 6,
   "id": "5a3250a8",
   "metadata": {},
   "outputs": [
    {
     "data": {
      "text/html": [
       "<div>\n",
       "<style scoped>\n",
       "    .dataframe tbody tr th:only-of-type {\n",
       "        vertical-align: middle;\n",
       "    }\n",
       "\n",
       "    .dataframe tbody tr th {\n",
       "        vertical-align: top;\n",
       "    }\n",
       "\n",
       "    .dataframe thead th {\n",
       "        text-align: right;\n",
       "    }\n",
       "</style>\n",
       "<table border=\"1\" class=\"dataframe\">\n",
       "  <thead>\n",
       "    <tr style=\"text-align: right;\">\n",
       "      <th></th>\n",
       "      <th>Pregnancies</th>\n",
       "      <th>Glucose</th>\n",
       "      <th>BloodPressure</th>\n",
       "      <th>SkinThickness</th>\n",
       "      <th>Insulin</th>\n",
       "      <th>BMI</th>\n",
       "      <th>DiabetesPedigreeFunction</th>\n",
       "      <th>Age</th>\n",
       "      <th>Outcome</th>\n",
       "    </tr>\n",
       "  </thead>\n",
       "  <tbody>\n",
       "    <tr>\n",
       "      <th>0</th>\n",
       "      <td>6</td>\n",
       "      <td>148</td>\n",
       "      <td>72</td>\n",
       "      <td>35</td>\n",
       "      <td>0</td>\n",
       "      <td>33.6</td>\n",
       "      <td>0.627</td>\n",
       "      <td>50</td>\n",
       "      <td>1</td>\n",
       "    </tr>\n",
       "    <tr>\n",
       "      <th>1</th>\n",
       "      <td>1</td>\n",
       "      <td>85</td>\n",
       "      <td>66</td>\n",
       "      <td>29</td>\n",
       "      <td>0</td>\n",
       "      <td>26.6</td>\n",
       "      <td>0.351</td>\n",
       "      <td>31</td>\n",
       "      <td>0</td>\n",
       "    </tr>\n",
       "    <tr>\n",
       "      <th>2</th>\n",
       "      <td>8</td>\n",
       "      <td>183</td>\n",
       "      <td>64</td>\n",
       "      <td>0</td>\n",
       "      <td>0</td>\n",
       "      <td>23.3</td>\n",
       "      <td>0.672</td>\n",
       "      <td>32</td>\n",
       "      <td>1</td>\n",
       "    </tr>\n",
       "    <tr>\n",
       "      <th>3</th>\n",
       "      <td>1</td>\n",
       "      <td>89</td>\n",
       "      <td>66</td>\n",
       "      <td>23</td>\n",
       "      <td>94</td>\n",
       "      <td>28.1</td>\n",
       "      <td>0.167</td>\n",
       "      <td>21</td>\n",
       "      <td>0</td>\n",
       "    </tr>\n",
       "    <tr>\n",
       "      <th>4</th>\n",
       "      <td>0</td>\n",
       "      <td>137</td>\n",
       "      <td>40</td>\n",
       "      <td>35</td>\n",
       "      <td>168</td>\n",
       "      <td>43.1</td>\n",
       "      <td>2.288</td>\n",
       "      <td>33</td>\n",
       "      <td>1</td>\n",
       "    </tr>\n",
       "    <tr>\n",
       "      <th>...</th>\n",
       "      <td>...</td>\n",
       "      <td>...</td>\n",
       "      <td>...</td>\n",
       "      <td>...</td>\n",
       "      <td>...</td>\n",
       "      <td>...</td>\n",
       "      <td>...</td>\n",
       "      <td>...</td>\n",
       "      <td>...</td>\n",
       "    </tr>\n",
       "    <tr>\n",
       "      <th>763</th>\n",
       "      <td>10</td>\n",
       "      <td>101</td>\n",
       "      <td>76</td>\n",
       "      <td>48</td>\n",
       "      <td>180</td>\n",
       "      <td>32.9</td>\n",
       "      <td>0.171</td>\n",
       "      <td>63</td>\n",
       "      <td>0</td>\n",
       "    </tr>\n",
       "    <tr>\n",
       "      <th>764</th>\n",
       "      <td>2</td>\n",
       "      <td>122</td>\n",
       "      <td>70</td>\n",
       "      <td>27</td>\n",
       "      <td>0</td>\n",
       "      <td>36.8</td>\n",
       "      <td>0.340</td>\n",
       "      <td>27</td>\n",
       "      <td>0</td>\n",
       "    </tr>\n",
       "    <tr>\n",
       "      <th>765</th>\n",
       "      <td>5</td>\n",
       "      <td>121</td>\n",
       "      <td>72</td>\n",
       "      <td>23</td>\n",
       "      <td>112</td>\n",
       "      <td>26.2</td>\n",
       "      <td>0.245</td>\n",
       "      <td>30</td>\n",
       "      <td>0</td>\n",
       "    </tr>\n",
       "    <tr>\n",
       "      <th>766</th>\n",
       "      <td>1</td>\n",
       "      <td>126</td>\n",
       "      <td>60</td>\n",
       "      <td>0</td>\n",
       "      <td>0</td>\n",
       "      <td>30.1</td>\n",
       "      <td>0.349</td>\n",
       "      <td>47</td>\n",
       "      <td>1</td>\n",
       "    </tr>\n",
       "    <tr>\n",
       "      <th>767</th>\n",
       "      <td>1</td>\n",
       "      <td>93</td>\n",
       "      <td>70</td>\n",
       "      <td>31</td>\n",
       "      <td>0</td>\n",
       "      <td>30.4</td>\n",
       "      <td>0.315</td>\n",
       "      <td>23</td>\n",
       "      <td>0</td>\n",
       "    </tr>\n",
       "  </tbody>\n",
       "</table>\n",
       "<p>768 rows × 9 columns</p>\n",
       "</div>"
      ],
      "text/plain": [
       "     Pregnancies  Glucose  BloodPressure  SkinThickness  Insulin   BMI  \\\n",
       "0              6      148             72             35        0  33.6   \n",
       "1              1       85             66             29        0  26.6   \n",
       "2              8      183             64              0        0  23.3   \n",
       "3              1       89             66             23       94  28.1   \n",
       "4              0      137             40             35      168  43.1   \n",
       "..           ...      ...            ...            ...      ...   ...   \n",
       "763           10      101             76             48      180  32.9   \n",
       "764            2      122             70             27        0  36.8   \n",
       "765            5      121             72             23      112  26.2   \n",
       "766            1      126             60              0        0  30.1   \n",
       "767            1       93             70             31        0  30.4   \n",
       "\n",
       "     DiabetesPedigreeFunction  Age  Outcome  \n",
       "0                       0.627   50        1  \n",
       "1                       0.351   31        0  \n",
       "2                       0.672   32        1  \n",
       "3                       0.167   21        0  \n",
       "4                       2.288   33        1  \n",
       "..                        ...  ...      ...  \n",
       "763                     0.171   63        0  \n",
       "764                     0.340   27        0  \n",
       "765                     0.245   30        0  \n",
       "766                     0.349   47        1  \n",
       "767                     0.315   23        0  \n",
       "\n",
       "[768 rows x 9 columns]"
      ]
     },
     "execution_count": 6,
     "metadata": {},
     "output_type": "execute_result"
    }
   ],
   "source": [
    "data"
   ]
  },
  {
   "cell_type": "code",
   "execution_count": 7,
   "id": "2d4c93ae",
   "metadata": {},
   "outputs": [],
   "source": [
    "import numpy as np\n"
   ]
  },
  {
   "cell_type": "code",
   "execution_count": 8,
   "id": "990f4dbc",
   "metadata": {},
   "outputs": [],
   "source": [
    "#replace gluscose where glucose is o beacause gloucose can't be 0\n",
    "data['Glucose'] = np.where(data['Glucose']==0,data['Glucose'].median(),data['Glucose'])\n",
    "data['BloodPressure']=np.where(data['BloodPressure']==0,data['BloodPressure'].median(),data['BloodPressure'])\n",
    "data['Insulin']=np.where(data['Insulin']==0,data['Insulin'].median(),data['Insulin'])\n"
   ]
  },
  {
   "cell_type": "code",
   "execution_count": 9,
   "id": "ba19b7ff",
   "metadata": {},
   "outputs": [
    {
     "data": {
      "text/html": [
       "<div>\n",
       "<style scoped>\n",
       "    .dataframe tbody tr th:only-of-type {\n",
       "        vertical-align: middle;\n",
       "    }\n",
       "\n",
       "    .dataframe tbody tr th {\n",
       "        vertical-align: top;\n",
       "    }\n",
       "\n",
       "    .dataframe thead th {\n",
       "        text-align: right;\n",
       "    }\n",
       "</style>\n",
       "<table border=\"1\" class=\"dataframe\">\n",
       "  <thead>\n",
       "    <tr style=\"text-align: right;\">\n",
       "      <th></th>\n",
       "      <th>Pregnancies</th>\n",
       "      <th>Glucose</th>\n",
       "      <th>BloodPressure</th>\n",
       "      <th>SkinThickness</th>\n",
       "      <th>Insulin</th>\n",
       "      <th>BMI</th>\n",
       "      <th>DiabetesPedigreeFunction</th>\n",
       "      <th>Age</th>\n",
       "      <th>Outcome</th>\n",
       "    </tr>\n",
       "  </thead>\n",
       "  <tbody>\n",
       "    <tr>\n",
       "      <th>0</th>\n",
       "      <td>6</td>\n",
       "      <td>148.0</td>\n",
       "      <td>72.0</td>\n",
       "      <td>35</td>\n",
       "      <td>30.5</td>\n",
       "      <td>33.6</td>\n",
       "      <td>0.627</td>\n",
       "      <td>50</td>\n",
       "      <td>1</td>\n",
       "    </tr>\n",
       "    <tr>\n",
       "      <th>1</th>\n",
       "      <td>1</td>\n",
       "      <td>85.0</td>\n",
       "      <td>66.0</td>\n",
       "      <td>29</td>\n",
       "      <td>30.5</td>\n",
       "      <td>26.6</td>\n",
       "      <td>0.351</td>\n",
       "      <td>31</td>\n",
       "      <td>0</td>\n",
       "    </tr>\n",
       "    <tr>\n",
       "      <th>2</th>\n",
       "      <td>8</td>\n",
       "      <td>183.0</td>\n",
       "      <td>64.0</td>\n",
       "      <td>0</td>\n",
       "      <td>30.5</td>\n",
       "      <td>23.3</td>\n",
       "      <td>0.672</td>\n",
       "      <td>32</td>\n",
       "      <td>1</td>\n",
       "    </tr>\n",
       "    <tr>\n",
       "      <th>3</th>\n",
       "      <td>1</td>\n",
       "      <td>89.0</td>\n",
       "      <td>66.0</td>\n",
       "      <td>23</td>\n",
       "      <td>94.0</td>\n",
       "      <td>28.1</td>\n",
       "      <td>0.167</td>\n",
       "      <td>21</td>\n",
       "      <td>0</td>\n",
       "    </tr>\n",
       "    <tr>\n",
       "      <th>4</th>\n",
       "      <td>0</td>\n",
       "      <td>137.0</td>\n",
       "      <td>40.0</td>\n",
       "      <td>35</td>\n",
       "      <td>168.0</td>\n",
       "      <td>43.1</td>\n",
       "      <td>2.288</td>\n",
       "      <td>33</td>\n",
       "      <td>1</td>\n",
       "    </tr>\n",
       "    <tr>\n",
       "      <th>...</th>\n",
       "      <td>...</td>\n",
       "      <td>...</td>\n",
       "      <td>...</td>\n",
       "      <td>...</td>\n",
       "      <td>...</td>\n",
       "      <td>...</td>\n",
       "      <td>...</td>\n",
       "      <td>...</td>\n",
       "      <td>...</td>\n",
       "    </tr>\n",
       "    <tr>\n",
       "      <th>763</th>\n",
       "      <td>10</td>\n",
       "      <td>101.0</td>\n",
       "      <td>76.0</td>\n",
       "      <td>48</td>\n",
       "      <td>180.0</td>\n",
       "      <td>32.9</td>\n",
       "      <td>0.171</td>\n",
       "      <td>63</td>\n",
       "      <td>0</td>\n",
       "    </tr>\n",
       "    <tr>\n",
       "      <th>764</th>\n",
       "      <td>2</td>\n",
       "      <td>122.0</td>\n",
       "      <td>70.0</td>\n",
       "      <td>27</td>\n",
       "      <td>30.5</td>\n",
       "      <td>36.8</td>\n",
       "      <td>0.340</td>\n",
       "      <td>27</td>\n",
       "      <td>0</td>\n",
       "    </tr>\n",
       "    <tr>\n",
       "      <th>765</th>\n",
       "      <td>5</td>\n",
       "      <td>121.0</td>\n",
       "      <td>72.0</td>\n",
       "      <td>23</td>\n",
       "      <td>112.0</td>\n",
       "      <td>26.2</td>\n",
       "      <td>0.245</td>\n",
       "      <td>30</td>\n",
       "      <td>0</td>\n",
       "    </tr>\n",
       "    <tr>\n",
       "      <th>766</th>\n",
       "      <td>1</td>\n",
       "      <td>126.0</td>\n",
       "      <td>60.0</td>\n",
       "      <td>0</td>\n",
       "      <td>30.5</td>\n",
       "      <td>30.1</td>\n",
       "      <td>0.349</td>\n",
       "      <td>47</td>\n",
       "      <td>1</td>\n",
       "    </tr>\n",
       "    <tr>\n",
       "      <th>767</th>\n",
       "      <td>1</td>\n",
       "      <td>93.0</td>\n",
       "      <td>70.0</td>\n",
       "      <td>31</td>\n",
       "      <td>30.5</td>\n",
       "      <td>30.4</td>\n",
       "      <td>0.315</td>\n",
       "      <td>23</td>\n",
       "      <td>0</td>\n",
       "    </tr>\n",
       "  </tbody>\n",
       "</table>\n",
       "<p>768 rows × 9 columns</p>\n",
       "</div>"
      ],
      "text/plain": [
       "     Pregnancies  Glucose  BloodPressure  SkinThickness  Insulin   BMI  \\\n",
       "0              6    148.0           72.0             35     30.5  33.6   \n",
       "1              1     85.0           66.0             29     30.5  26.6   \n",
       "2              8    183.0           64.0              0     30.5  23.3   \n",
       "3              1     89.0           66.0             23     94.0  28.1   \n",
       "4              0    137.0           40.0             35    168.0  43.1   \n",
       "..           ...      ...            ...            ...      ...   ...   \n",
       "763           10    101.0           76.0             48    180.0  32.9   \n",
       "764            2    122.0           70.0             27     30.5  36.8   \n",
       "765            5    121.0           72.0             23    112.0  26.2   \n",
       "766            1    126.0           60.0              0     30.5  30.1   \n",
       "767            1     93.0           70.0             31     30.5  30.4   \n",
       "\n",
       "     DiabetesPedigreeFunction  Age  Outcome  \n",
       "0                       0.627   50        1  \n",
       "1                       0.351   31        0  \n",
       "2                       0.672   32        1  \n",
       "3                       0.167   21        0  \n",
       "4                       2.288   33        1  \n",
       "..                        ...  ...      ...  \n",
       "763                     0.171   63        0  \n",
       "764                     0.340   27        0  \n",
       "765                     0.245   30        0  \n",
       "766                     0.349   47        1  \n",
       "767                     0.315   23        0  \n",
       "\n",
       "[768 rows x 9 columns]"
      ]
     },
     "execution_count": 9,
     "metadata": {},
     "output_type": "execute_result"
    }
   ],
   "source": [
    "data"
   ]
  },
  {
   "cell_type": "code",
   "execution_count": 10,
   "id": "070bb10e",
   "metadata": {},
   "outputs": [],
   "source": [
    "#independent and dependent variable\n",
    "x= data.drop('Outcome',axis='columns')"
   ]
  },
  {
   "cell_type": "code",
   "execution_count": 11,
   "id": "aec380f0",
   "metadata": {},
   "outputs": [],
   "source": [
    "y= data['Outcome']"
   ]
  },
  {
   "cell_type": "code",
   "execution_count": 12,
   "id": "e292718a",
   "metadata": {},
   "outputs": [],
   "source": [
    "#split data\n",
    "from sklearn.model_selection import train_test_split\n",
    "x_train,x_test,y_train,y_test = train_test_split(x,y,test_size=0.2,random_state=10)"
   ]
  },
  {
   "cell_type": "code",
   "execution_count": 13,
   "id": "cce5e8a2",
   "metadata": {},
   "outputs": [],
   "source": [
    "from sklearn.ensemble import RandomForestClassifier\n",
    "model = RandomForestClassifier(n_estimators=10)"
   ]
  },
  {
   "cell_type": "code",
   "execution_count": 14,
   "id": "f93b5b2c",
   "metadata": {},
   "outputs": [
    {
     "data": {
      "text/plain": [
       "RandomForestClassifier(n_estimators=10)"
      ]
     },
     "execution_count": 14,
     "metadata": {},
     "output_type": "execute_result"
    }
   ],
   "source": [
    "model.fit(x_train,y_train)"
   ]
  },
  {
   "cell_type": "code",
   "execution_count": 15,
   "id": "8005d6ce",
   "metadata": {},
   "outputs": [],
   "source": [
    "prediction = model.predict(x_test)"
   ]
  },
  {
   "cell_type": "code",
   "execution_count": 16,
   "id": "281d7aa1",
   "metadata": {},
   "outputs": [
    {
     "data": {
      "text/plain": [
       "0    500\n",
       "1    268\n",
       "Name: Outcome, dtype: int64"
      ]
     },
     "execution_count": 16,
     "metadata": {},
     "output_type": "execute_result"
    }
   ],
   "source": [
    "y.value_counts()"
   ]
  },
  {
   "cell_type": "code",
   "execution_count": 17,
   "id": "ebfe0c52",
   "metadata": {},
   "outputs": [
    {
     "name": "stdout",
     "output_type": "stream",
     "text": [
      "[[86  9]\n",
      " [31 28]]\n",
      "0.7402597402597403\n",
      "              precision    recall  f1-score   support\n",
      "\n",
      "           0       0.74      0.91      0.81        95\n",
      "           1       0.76      0.47      0.58        59\n",
      "\n",
      "    accuracy                           0.74       154\n",
      "   macro avg       0.75      0.69      0.70       154\n",
      "weighted avg       0.74      0.74      0.72       154\n",
      "\n"
     ]
    }
   ],
   "source": [
    "from sklearn.metrics import confusion_matrix,classification_report,accuracy_score\n",
    "print(confusion_matrix(y_test,prediction))\n",
    "print(accuracy_score(y_test,prediction))\n",
    "print(classification_report(y_test,prediction))"
   ]
  },
  {
   "cell_type": "markdown",
   "id": "44657c64",
   "metadata": {},
   "source": [
    "# The main parameters used by a Random Forest Classifier are:\n",
    "\n",
    "- criterion = the function used to evaluate the quality of a split.\n",
    "- max_depth = maximum number of levels allowed in each tree.\n",
    "- max_features = maximum number of features considered when splitting a node.\n",
    "- min_samples_leaf = minimum number of samples which can be stored in a tree leaf.\n",
    "- min_samples_split = minimum number of samples necessary in a node to cause node splitting.\n",
    "- n_estimators = number of trees in the ensamble."
   ]
  },
  {
   "cell_type": "code",
   "execution_count": 18,
   "id": "7aa192e3",
   "metadata": {},
   "outputs": [],
   "source": [
    "#manual hyper parameter tunning\n",
    "model=RandomForestClassifier(n_estimators=100,criterion='gini',max_features='auto',min_samples_leaf=1,min_samples_split=2)"
   ]
  },
  {
   "cell_type": "code",
   "execution_count": 19,
   "id": "ccbb85bf",
   "metadata": {},
   "outputs": [
    {
     "name": "stdout",
     "output_type": "stream",
     "text": [
      "[[85 10]\n",
      " [33 26]]\n",
      "0.7207792207792207\n",
      "              precision    recall  f1-score   support\n",
      "\n",
      "           0       0.72      0.89      0.80        95\n",
      "           1       0.72      0.44      0.55        59\n",
      "\n",
      "    accuracy                           0.72       154\n",
      "   macro avg       0.72      0.67      0.67       154\n",
      "weighted avg       0.72      0.72      0.70       154\n",
      "\n"
     ]
    }
   ],
   "source": [
    "model.fit(x_train,y_train)\n",
    "predictions=model.predict(x_test)\n",
    "print(confusion_matrix(y_test,predictions))\n",
    "print(accuracy_score(y_test,predictions))\n",
    "print(classification_report(y_test,predictions))"
   ]
  },
  {
   "cell_type": "code",
   "execution_count": 20,
   "id": "7fcdc277",
   "metadata": {},
   "outputs": [
    {
     "name": "stdout",
     "output_type": "stream",
     "text": [
      "{'n_estimators': [200, 400, 600, 800, 1000, 1200, 1400, 1600, 1800, 2000], 'max_features': ['auto', 'sqrt', 'log2'], 'max_depth': [10, 120, 230, 340, 450, 560, 670, 780, 890, 1000], 'min_samples_split': [2, 5, 10, 14], 'min_samples_leaf': [1, 2, 4, 6, 8], 'criterion': ['entropy', 'gini']}\n"
     ]
    }
   ],
   "source": [
    "import numpy as np\n",
    "from sklearn.model_selection import RandomizedSearchCV\n",
    "# Number of trees in random forest\n",
    "n_estimators = [int(x) for x in np.linspace(start = 200, stop = 2000, num = 10)]\n",
    "# Number of features to consider at every split\n",
    "max_features = ['auto', 'sqrt','log2']\n",
    "# Maximum number of levels in tree\n",
    "max_depth = [int(x) for x in np.linspace(10, 1000,10)]\n",
    "# Minimum number of samples required to split a node\n",
    "min_samples_split = [2, 5, 10,14]\n",
    "# Minimum number of samples required at each leaf node\n",
    "min_samples_leaf = [1, 2, 4,6,8]\n",
    "# Create the random grid\n",
    "random_grid = {'n_estimators': n_estimators,\n",
    "               'max_features': max_features,\n",
    "               'max_depth': max_depth,\n",
    "               'min_samples_split': min_samples_split,\n",
    "               'min_samples_leaf': min_samples_leaf,\n",
    "              'criterion':['entropy','gini']}\n",
    "print(random_grid)"
   ]
  },
  {
   "cell_type": "code",
   "execution_count": 21,
   "id": "7d9b491a",
   "metadata": {},
   "outputs": [
    {
     "name": "stdout",
     "output_type": "stream",
     "text": [
      "{'n_estimators': [200, 344, 488, 633, 777, 922, 1066, 1211, 1355, 1500], 'max_features': ['auto', 'sqrt', 'log2'], 'max_depth': [10, 120, 230, 340, 450, 560, 670, 780, 890, 1000], 'min_samples_split': [2, 5, 7, 10], 'min_samples_leaf': [1, 2, 6, 4, 5, 9], 'criterion': ['entropy', 'gini']}\n"
     ]
    }
   ],
   "source": [
    "from sklearn.model_selection import RandomizedSearchCV\n",
    "# Number of trees in random forest\n",
    "n_estimators = [int(x) for x in np.linspace(start=200,stop=1500,num=10)]\n",
    "# Number of features to consider at every split\n",
    "max_features = ['auto','sqrt','log2']\n",
    "# Maximum number of levels in tree\n",
    "max_depth = [int(x) for x in np.linspace(start=10,stop=1000,num=10)]\n",
    "# Minimum number of samples required to split a node[]\n",
    "max_samples_split = [2,5,7,10]\n",
    "# Minimum number of samples required at each leaf node\n",
    "max_samples_leaf = [1,2,6,4,5,9]\n",
    "random_grid = {'n_estimators':n_estimators,\n",
    "              'max_features':max_features,\n",
    "              'max_depth':max_depth,\n",
    "              'min_samples_split':max_samples_split,\n",
    "              'min_samples_leaf':max_samples_leaf,\n",
    "              'criterion':['entropy','gini']}\n",
    "print(random_grid)\n",
    "\n",
    "\n",
    "\n",
    "\n"
   ]
  },
  {
   "cell_type": "code",
   "execution_count": 22,
   "id": "e3db5a72",
   "metadata": {},
   "outputs": [
    {
     "name": "stdout",
     "output_type": "stream",
     "text": [
      "Fitting 3 folds for each of 100 candidates, totalling 300 fits\n",
      "[CV] END criterion=gini, max_depth=560, max_features=auto, min_samples_leaf=1, min_samples_split=2, n_estimators=633; total time=   3.3s\n",
      "[CV] END criterion=gini, max_depth=560, max_features=auto, min_samples_leaf=1, min_samples_split=2, n_estimators=633; total time=   2.9s\n",
      "[CV] END criterion=gini, max_depth=560, max_features=auto, min_samples_leaf=1, min_samples_split=2, n_estimators=633; total time=   3.0s\n",
      "[CV] END criterion=gini, max_depth=10, max_features=auto, min_samples_leaf=5, min_samples_split=2, n_estimators=1355; total time=   4.2s\n",
      "[CV] END criterion=gini, max_depth=10, max_features=auto, min_samples_leaf=5, min_samples_split=2, n_estimators=1355; total time=   3.0s\n",
      "[CV] END criterion=gini, max_depth=10, max_features=auto, min_samples_leaf=5, min_samples_split=2, n_estimators=1355; total time=   2.9s\n",
      "[CV] END criterion=gini, max_depth=230, max_features=sqrt, min_samples_leaf=2, min_samples_split=5, n_estimators=1066; total time=   2.3s\n",
      "[CV] END criterion=gini, max_depth=230, max_features=sqrt, min_samples_leaf=2, min_samples_split=5, n_estimators=1066; total time=   3.3s\n",
      "[CV] END criterion=gini, max_depth=230, max_features=sqrt, min_samples_leaf=2, min_samples_split=5, n_estimators=1066; total time=   3.7s\n",
      "[CV] END criterion=gini, max_depth=120, max_features=log2, min_samples_leaf=9, min_samples_split=2, n_estimators=1355; total time=   6.8s\n",
      "[CV] END criterion=gini, max_depth=120, max_features=log2, min_samples_leaf=9, min_samples_split=2, n_estimators=1355; total time=   5.0s\n",
      "[CV] END criterion=gini, max_depth=120, max_features=log2, min_samples_leaf=9, min_samples_split=2, n_estimators=1355; total time=   4.6s\n",
      "[CV] END criterion=entropy, max_depth=230, max_features=auto, min_samples_leaf=9, min_samples_split=5, n_estimators=344; total time=   0.9s\n",
      "[CV] END criterion=entropy, max_depth=230, max_features=auto, min_samples_leaf=9, min_samples_split=5, n_estimators=344; total time=   1.3s\n",
      "[CV] END criterion=entropy, max_depth=230, max_features=auto, min_samples_leaf=9, min_samples_split=5, n_estimators=344; total time=   1.7s\n",
      "[CV] END criterion=entropy, max_depth=10, max_features=sqrt, min_samples_leaf=6, min_samples_split=2, n_estimators=1500; total time=   5.8s\n",
      "[CV] END criterion=entropy, max_depth=10, max_features=sqrt, min_samples_leaf=6, min_samples_split=2, n_estimators=1500; total time=   4.7s\n",
      "[CV] END criterion=entropy, max_depth=10, max_features=sqrt, min_samples_leaf=6, min_samples_split=2, n_estimators=1500; total time=   5.1s\n",
      "[CV] END criterion=gini, max_depth=780, max_features=sqrt, min_samples_leaf=5, min_samples_split=7, n_estimators=488; total time=   1.7s\n",
      "[CV] END criterion=gini, max_depth=780, max_features=sqrt, min_samples_leaf=5, min_samples_split=7, n_estimators=488; total time=   1.7s\n",
      "[CV] END criterion=gini, max_depth=780, max_features=sqrt, min_samples_leaf=5, min_samples_split=7, n_estimators=488; total time=   1.5s\n",
      "[CV] END criterion=gini, max_depth=120, max_features=auto, min_samples_leaf=9, min_samples_split=5, n_estimators=344; total time=   0.8s\n",
      "[CV] END criterion=gini, max_depth=120, max_features=auto, min_samples_leaf=9, min_samples_split=5, n_estimators=344; total time=   0.8s\n",
      "[CV] END criterion=gini, max_depth=120, max_features=auto, min_samples_leaf=9, min_samples_split=5, n_estimators=344; total time=   1.3s\n",
      "[CV] END criterion=entropy, max_depth=230, max_features=log2, min_samples_leaf=4, min_samples_split=7, n_estimators=1211; total time=   5.1s\n",
      "[CV] END criterion=entropy, max_depth=230, max_features=log2, min_samples_leaf=4, min_samples_split=7, n_estimators=1211; total time=   5.6s\n",
      "[CV] END criterion=entropy, max_depth=230, max_features=log2, min_samples_leaf=4, min_samples_split=7, n_estimators=1211; total time=   5.8s\n",
      "[CV] END criterion=gini, max_depth=780, max_features=log2, min_samples_leaf=1, min_samples_split=2, n_estimators=1355; total time=   5.5s\n",
      "[CV] END criterion=gini, max_depth=780, max_features=log2, min_samples_leaf=1, min_samples_split=2, n_estimators=1355; total time=   6.2s\n",
      "[CV] END criterion=gini, max_depth=780, max_features=log2, min_samples_leaf=1, min_samples_split=2, n_estimators=1355; total time=   5.5s\n",
      "[CV] END criterion=gini, max_depth=230, max_features=log2, min_samples_leaf=2, min_samples_split=5, n_estimators=922; total time=   4.1s\n",
      "[CV] END criterion=gini, max_depth=230, max_features=log2, min_samples_leaf=2, min_samples_split=5, n_estimators=922; total time=   4.0s\n",
      "[CV] END criterion=gini, max_depth=230, max_features=log2, min_samples_leaf=2, min_samples_split=5, n_estimators=922; total time=   3.9s\n",
      "[CV] END criterion=gini, max_depth=560, max_features=sqrt, min_samples_leaf=2, min_samples_split=10, n_estimators=1500; total time=   6.1s\n",
      "[CV] END criterion=gini, max_depth=560, max_features=sqrt, min_samples_leaf=2, min_samples_split=10, n_estimators=1500; total time=   5.9s\n",
      "[CV] END criterion=gini, max_depth=560, max_features=sqrt, min_samples_leaf=2, min_samples_split=10, n_estimators=1500; total time=   6.2s\n",
      "[CV] END criterion=entropy, max_depth=120, max_features=auto, min_samples_leaf=5, min_samples_split=7, n_estimators=200; total time=   0.8s\n",
      "[CV] END criterion=entropy, max_depth=120, max_features=auto, min_samples_leaf=5, min_samples_split=7, n_estimators=200; total time=   0.8s\n",
      "[CV] END criterion=entropy, max_depth=120, max_features=auto, min_samples_leaf=5, min_samples_split=7, n_estimators=200; total time=   0.8s\n",
      "[CV] END criterion=gini, max_depth=560, max_features=log2, min_samples_leaf=6, min_samples_split=5, n_estimators=344; total time=   1.4s\n",
      "[CV] END criterion=gini, max_depth=560, max_features=log2, min_samples_leaf=6, min_samples_split=5, n_estimators=344; total time=   1.4s\n",
      "[CV] END criterion=gini, max_depth=560, max_features=log2, min_samples_leaf=6, min_samples_split=5, n_estimators=344; total time=   1.4s\n",
      "[CV] END criterion=entropy, max_depth=1000, max_features=log2, min_samples_leaf=9, min_samples_split=5, n_estimators=344; total time=   1.5s\n",
      "[CV] END criterion=entropy, max_depth=1000, max_features=log2, min_samples_leaf=9, min_samples_split=5, n_estimators=344; total time=   1.5s\n",
      "[CV] END criterion=entropy, max_depth=1000, max_features=log2, min_samples_leaf=9, min_samples_split=5, n_estimators=344; total time=   1.5s\n",
      "[CV] END criterion=gini, max_depth=450, max_features=sqrt, min_samples_leaf=6, min_samples_split=5, n_estimators=1355; total time=   6.3s\n",
      "[CV] END criterion=gini, max_depth=450, max_features=sqrt, min_samples_leaf=6, min_samples_split=5, n_estimators=1355; total time=   5.9s\n",
      "[CV] END criterion=gini, max_depth=450, max_features=sqrt, min_samples_leaf=6, min_samples_split=5, n_estimators=1355; total time=   6.4s\n",
      "[CV] END criterion=gini, max_depth=340, max_features=log2, min_samples_leaf=4, min_samples_split=2, n_estimators=1211; total time=   6.2s\n",
      "[CV] END criterion=gini, max_depth=340, max_features=log2, min_samples_leaf=4, min_samples_split=2, n_estimators=1211; total time=   6.3s\n",
      "[CV] END criterion=gini, max_depth=340, max_features=log2, min_samples_leaf=4, min_samples_split=2, n_estimators=1211; total time=   5.3s\n",
      "[CV] END criterion=entropy, max_depth=560, max_features=sqrt, min_samples_leaf=2, min_samples_split=5, n_estimators=200; total time=   0.8s\n",
      "[CV] END criterion=entropy, max_depth=560, max_features=sqrt, min_samples_leaf=2, min_samples_split=5, n_estimators=200; total time=   0.6s\n",
      "[CV] END criterion=entropy, max_depth=560, max_features=sqrt, min_samples_leaf=2, min_samples_split=5, n_estimators=200; total time=   0.8s\n",
      "[CV] END criterion=entropy, max_depth=890, max_features=auto, min_samples_leaf=5, min_samples_split=7, n_estimators=488; total time=   3.1s\n",
      "[CV] END criterion=entropy, max_depth=890, max_features=auto, min_samples_leaf=5, min_samples_split=7, n_estimators=488; total time=   3.0s\n",
      "[CV] END criterion=entropy, max_depth=890, max_features=auto, min_samples_leaf=5, min_samples_split=7, n_estimators=488; total time=   1.9s\n",
      "[CV] END criterion=entropy, max_depth=560, max_features=auto, min_samples_leaf=6, min_samples_split=10, n_estimators=1066; total time=   3.9s\n",
      "[CV] END criterion=entropy, max_depth=560, max_features=auto, min_samples_leaf=6, min_samples_split=10, n_estimators=1066; total time=   4.2s\n",
      "[CV] END criterion=entropy, max_depth=560, max_features=auto, min_samples_leaf=6, min_samples_split=10, n_estimators=1066; total time=   4.6s\n",
      "[CV] END criterion=entropy, max_depth=120, max_features=sqrt, min_samples_leaf=5, min_samples_split=10, n_estimators=488; total time=   2.2s\n",
      "[CV] END criterion=entropy, max_depth=120, max_features=sqrt, min_samples_leaf=5, min_samples_split=10, n_estimators=488; total time=   2.3s\n",
      "[CV] END criterion=entropy, max_depth=120, max_features=sqrt, min_samples_leaf=5, min_samples_split=10, n_estimators=488; total time=   1.9s\n",
      "[CV] END criterion=entropy, max_depth=560, max_features=log2, min_samples_leaf=9, min_samples_split=2, n_estimators=1500; total time=   5.6s\n",
      "[CV] END criterion=entropy, max_depth=560, max_features=log2, min_samples_leaf=9, min_samples_split=2, n_estimators=1500; total time=   4.8s\n",
      "[CV] END criterion=entropy, max_depth=560, max_features=log2, min_samples_leaf=9, min_samples_split=2, n_estimators=1500; total time=   5.5s\n",
      "[CV] END criterion=gini, max_depth=120, max_features=log2, min_samples_leaf=2, min_samples_split=7, n_estimators=1500; total time=   5.0s\n",
      "[CV] END criterion=gini, max_depth=120, max_features=log2, min_samples_leaf=2, min_samples_split=7, n_estimators=1500; total time=   5.1s\n",
      "[CV] END criterion=gini, max_depth=120, max_features=log2, min_samples_leaf=2, min_samples_split=7, n_estimators=1500; total time=   3.4s\n",
      "[CV] END criterion=entropy, max_depth=340, max_features=auto, min_samples_leaf=1, min_samples_split=7, n_estimators=344; total time=   0.7s\n",
      "[CV] END criterion=entropy, max_depth=340, max_features=auto, min_samples_leaf=1, min_samples_split=7, n_estimators=344; total time=   0.7s\n",
      "[CV] END criterion=entropy, max_depth=340, max_features=auto, min_samples_leaf=1, min_samples_split=7, n_estimators=344; total time=   0.7s\n",
      "[CV] END criterion=gini, max_depth=340, max_features=log2, min_samples_leaf=5, min_samples_split=10, n_estimators=1500; total time=   3.2s\n",
      "[CV] END criterion=gini, max_depth=340, max_features=log2, min_samples_leaf=5, min_samples_split=10, n_estimators=1500; total time=   3.4s\n",
      "[CV] END criterion=gini, max_depth=340, max_features=log2, min_samples_leaf=5, min_samples_split=10, n_estimators=1500; total time=   3.5s\n",
      "[CV] END criterion=entropy, max_depth=10, max_features=sqrt, min_samples_leaf=5, min_samples_split=10, n_estimators=344; total time=   0.7s\n",
      "[CV] END criterion=entropy, max_depth=10, max_features=sqrt, min_samples_leaf=5, min_samples_split=10, n_estimators=344; total time=   0.7s\n",
      "[CV] END criterion=entropy, max_depth=10, max_features=sqrt, min_samples_leaf=5, min_samples_split=10, n_estimators=344; total time=   0.7s\n",
      "[CV] END criterion=entropy, max_depth=120, max_features=auto, min_samples_leaf=5, min_samples_split=2, n_estimators=633; total time=   1.3s\n",
      "[CV] END criterion=entropy, max_depth=120, max_features=auto, min_samples_leaf=5, min_samples_split=2, n_estimators=633; total time=   1.5s\n",
      "[CV] END criterion=entropy, max_depth=120, max_features=auto, min_samples_leaf=5, min_samples_split=2, n_estimators=633; total time=   1.5s\n",
      "[CV] END criterion=gini, max_depth=230, max_features=auto, min_samples_leaf=6, min_samples_split=7, n_estimators=200; total time=   0.4s\n",
      "[CV] END criterion=gini, max_depth=230, max_features=auto, min_samples_leaf=6, min_samples_split=7, n_estimators=200; total time=   0.4s\n",
      "[CV] END criterion=gini, max_depth=230, max_features=auto, min_samples_leaf=6, min_samples_split=7, n_estimators=200; total time=   0.4s\n",
      "[CV] END criterion=entropy, max_depth=1000, max_features=auto, min_samples_leaf=4, min_samples_split=2, n_estimators=1066; total time=   2.6s\n",
      "[CV] END criterion=entropy, max_depth=1000, max_features=auto, min_samples_leaf=4, min_samples_split=2, n_estimators=1066; total time=   3.3s\n",
      "[CV] END criterion=entropy, max_depth=1000, max_features=auto, min_samples_leaf=4, min_samples_split=2, n_estimators=1066; total time=   3.9s\n",
      "[CV] END criterion=entropy, max_depth=120, max_features=sqrt, min_samples_leaf=6, min_samples_split=7, n_estimators=1066; total time=   3.1s\n",
      "[CV] END criterion=entropy, max_depth=120, max_features=sqrt, min_samples_leaf=6, min_samples_split=7, n_estimators=1066; total time=   2.8s\n",
      "[CV] END criterion=entropy, max_depth=120, max_features=sqrt, min_samples_leaf=6, min_samples_split=7, n_estimators=1066; total time=   3.1s\n",
      "[CV] END criterion=entropy, max_depth=340, max_features=log2, min_samples_leaf=6, min_samples_split=7, n_estimators=1500; total time=   4.8s\n",
      "[CV] END criterion=entropy, max_depth=340, max_features=log2, min_samples_leaf=6, min_samples_split=7, n_estimators=1500; total time=   4.5s\n",
      "[CV] END criterion=entropy, max_depth=340, max_features=log2, min_samples_leaf=6, min_samples_split=7, n_estimators=1500; total time=   4.4s\n",
      "[CV] END criterion=entropy, max_depth=340, max_features=auto, min_samples_leaf=4, min_samples_split=2, n_estimators=777; total time=   2.2s\n",
      "[CV] END criterion=entropy, max_depth=340, max_features=auto, min_samples_leaf=4, min_samples_split=2, n_estimators=777; total time=   1.9s\n",
      "[CV] END criterion=entropy, max_depth=340, max_features=auto, min_samples_leaf=4, min_samples_split=2, n_estimators=777; total time=   2.0s\n",
      "[CV] END criterion=entropy, max_depth=230, max_features=sqrt, min_samples_leaf=4, min_samples_split=5, n_estimators=488; total time=   1.5s\n",
      "[CV] END criterion=entropy, max_depth=230, max_features=sqrt, min_samples_leaf=4, min_samples_split=5, n_estimators=488; total time=   1.6s\n",
      "[CV] END criterion=entropy, max_depth=230, max_features=sqrt, min_samples_leaf=4, min_samples_split=5, n_estimators=488; total time=   1.7s\n",
      "[CV] END criterion=gini, max_depth=780, max_features=log2, min_samples_leaf=1, min_samples_split=10, n_estimators=488; total time=   1.7s\n",
      "[CV] END criterion=gini, max_depth=780, max_features=log2, min_samples_leaf=1, min_samples_split=10, n_estimators=488; total time=   1.8s\n",
      "[CV] END criterion=gini, max_depth=780, max_features=log2, min_samples_leaf=1, min_samples_split=10, n_estimators=488; total time=   1.7s\n",
      "[CV] END criterion=gini, max_depth=890, max_features=log2, min_samples_leaf=1, min_samples_split=5, n_estimators=488; total time=   1.3s\n",
      "[CV] END criterion=gini, max_depth=890, max_features=log2, min_samples_leaf=1, min_samples_split=5, n_estimators=488; total time=   1.2s\n",
      "[CV] END criterion=gini, max_depth=890, max_features=log2, min_samples_leaf=1, min_samples_split=5, n_estimators=488; total time=   1.3s\n",
      "[CV] END criterion=entropy, max_depth=230, max_features=auto, min_samples_leaf=2, min_samples_split=5, n_estimators=922; total time=   2.5s\n",
      "[CV] END criterion=entropy, max_depth=230, max_features=auto, min_samples_leaf=2, min_samples_split=5, n_estimators=922; total time=   2.5s\n",
      "[CV] END criterion=entropy, max_depth=230, max_features=auto, min_samples_leaf=2, min_samples_split=5, n_estimators=922; total time=   2.6s\n",
      "[CV] END criterion=entropy, max_depth=560, max_features=log2, min_samples_leaf=2, min_samples_split=10, n_estimators=1211; total time=   3.5s\n",
      "[CV] END criterion=entropy, max_depth=560, max_features=log2, min_samples_leaf=2, min_samples_split=10, n_estimators=1211; total time=   3.7s\n",
      "[CV] END criterion=entropy, max_depth=560, max_features=log2, min_samples_leaf=2, min_samples_split=10, n_estimators=1211; total time=   3.7s\n",
      "[CV] END criterion=entropy, max_depth=230, max_features=sqrt, min_samples_leaf=4, min_samples_split=10, n_estimators=777; total time=   2.1s\n",
      "[CV] END criterion=entropy, max_depth=230, max_features=sqrt, min_samples_leaf=4, min_samples_split=10, n_estimators=777; total time=   2.3s\n",
      "[CV] END criterion=entropy, max_depth=230, max_features=sqrt, min_samples_leaf=4, min_samples_split=10, n_estimators=777; total time=   2.9s\n",
      "[CV] END criterion=gini, max_depth=340, max_features=auto, min_samples_leaf=5, min_samples_split=5, n_estimators=1355; total time=   4.0s\n",
      "[CV] END criterion=gini, max_depth=340, max_features=auto, min_samples_leaf=5, min_samples_split=5, n_estimators=1355; total time=   4.3s\n",
      "[CV] END criterion=gini, max_depth=340, max_features=auto, min_samples_leaf=5, min_samples_split=5, n_estimators=1355; total time=   4.1s\n",
      "[CV] END criterion=gini, max_depth=340, max_features=sqrt, min_samples_leaf=1, min_samples_split=10, n_estimators=200; total time=   0.4s\n",
      "[CV] END criterion=gini, max_depth=340, max_features=sqrt, min_samples_leaf=1, min_samples_split=10, n_estimators=200; total time=   0.4s\n",
      "[CV] END criterion=gini, max_depth=340, max_features=sqrt, min_samples_leaf=1, min_samples_split=10, n_estimators=200; total time=   0.4s\n",
      "[CV] END criterion=gini, max_depth=670, max_features=log2, min_samples_leaf=5, min_samples_split=7, n_estimators=922; total time=   2.3s\n",
      "[CV] END criterion=gini, max_depth=670, max_features=log2, min_samples_leaf=5, min_samples_split=7, n_estimators=922; total time=   2.3s\n",
      "[CV] END criterion=gini, max_depth=670, max_features=log2, min_samples_leaf=5, min_samples_split=7, n_estimators=922; total time=   2.4s\n",
      "[CV] END criterion=gini, max_depth=890, max_features=auto, min_samples_leaf=6, min_samples_split=7, n_estimators=922; total time=   2.3s\n",
      "[CV] END criterion=gini, max_depth=890, max_features=auto, min_samples_leaf=6, min_samples_split=7, n_estimators=922; total time=   2.3s\n",
      "[CV] END criterion=gini, max_depth=890, max_features=auto, min_samples_leaf=6, min_samples_split=7, n_estimators=922; total time=   2.4s\n",
      "[CV] END criterion=entropy, max_depth=230, max_features=sqrt, min_samples_leaf=1, min_samples_split=5, n_estimators=777; total time=   2.3s\n",
      "[CV] END criterion=entropy, max_depth=230, max_features=sqrt, min_samples_leaf=1, min_samples_split=5, n_estimators=777; total time=   2.2s\n",
      "[CV] END criterion=entropy, max_depth=230, max_features=sqrt, min_samples_leaf=1, min_samples_split=5, n_estimators=777; total time=   2.3s\n",
      "[CV] END criterion=gini, max_depth=230, max_features=sqrt, min_samples_leaf=2, min_samples_split=2, n_estimators=633; total time=   1.7s\n",
      "[CV] END criterion=gini, max_depth=230, max_features=sqrt, min_samples_leaf=2, min_samples_split=2, n_estimators=633; total time=   1.7s\n",
      "[CV] END criterion=gini, max_depth=230, max_features=sqrt, min_samples_leaf=2, min_samples_split=2, n_estimators=633; total time=   1.8s\n",
      "[CV] END criterion=entropy, max_depth=780, max_features=auto, min_samples_leaf=5, min_samples_split=7, n_estimators=1500; total time=   4.4s\n",
      "[CV] END criterion=entropy, max_depth=780, max_features=auto, min_samples_leaf=5, min_samples_split=7, n_estimators=1500; total time=   5.7s\n",
      "[CV] END criterion=entropy, max_depth=780, max_features=auto, min_samples_leaf=5, min_samples_split=7, n_estimators=1500; total time=   6.3s\n",
      "[CV] END criterion=entropy, max_depth=890, max_features=sqrt, min_samples_leaf=9, min_samples_split=7, n_estimators=1355; total time=   4.8s\n",
      "[CV] END criterion=entropy, max_depth=890, max_features=sqrt, min_samples_leaf=9, min_samples_split=7, n_estimators=1355; total time=   4.7s\n",
      "[CV] END criterion=entropy, max_depth=890, max_features=sqrt, min_samples_leaf=9, min_samples_split=7, n_estimators=1355; total time=   4.7s\n",
      "[CV] END criterion=gini, max_depth=1000, max_features=log2, min_samples_leaf=9, min_samples_split=7, n_estimators=777; total time=   2.0s\n",
      "[CV] END criterion=gini, max_depth=1000, max_features=log2, min_samples_leaf=9, min_samples_split=7, n_estimators=777; total time=   1.8s\n",
      "[CV] END criterion=gini, max_depth=1000, max_features=log2, min_samples_leaf=9, min_samples_split=7, n_estimators=777; total time=   1.8s\n",
      "[CV] END criterion=gini, max_depth=340, max_features=log2, min_samples_leaf=9, min_samples_split=2, n_estimators=777; total time=   1.8s\n",
      "[CV] END criterion=gini, max_depth=340, max_features=log2, min_samples_leaf=9, min_samples_split=2, n_estimators=777; total time=   1.9s\n",
      "[CV] END criterion=gini, max_depth=340, max_features=log2, min_samples_leaf=9, min_samples_split=2, n_estimators=777; total time=   1.8s\n",
      "[CV] END criterion=gini, max_depth=450, max_features=log2, min_samples_leaf=4, min_samples_split=2, n_estimators=488; total time=   1.3s\n",
      "[CV] END criterion=gini, max_depth=450, max_features=log2, min_samples_leaf=4, min_samples_split=2, n_estimators=488; total time=   1.1s\n",
      "[CV] END criterion=gini, max_depth=450, max_features=log2, min_samples_leaf=4, min_samples_split=2, n_estimators=488; total time=   1.2s\n",
      "[CV] END criterion=gini, max_depth=890, max_features=log2, min_samples_leaf=9, min_samples_split=2, n_estimators=344; total time=   0.8s\n",
      "[CV] END criterion=gini, max_depth=890, max_features=log2, min_samples_leaf=9, min_samples_split=2, n_estimators=344; total time=   0.7s\n",
      "[CV] END criterion=gini, max_depth=890, max_features=log2, min_samples_leaf=9, min_samples_split=2, n_estimators=344; total time=   0.7s\n",
      "[CV] END criterion=gini, max_depth=670, max_features=log2, min_samples_leaf=9, min_samples_split=10, n_estimators=777; total time=   1.9s\n",
      "[CV] END criterion=gini, max_depth=670, max_features=log2, min_samples_leaf=9, min_samples_split=10, n_estimators=777; total time=   1.8s\n",
      "[CV] END criterion=gini, max_depth=670, max_features=log2, min_samples_leaf=9, min_samples_split=10, n_estimators=777; total time=   1.9s\n",
      "[CV] END criterion=gini, max_depth=780, max_features=auto, min_samples_leaf=9, min_samples_split=7, n_estimators=1355; total time=   3.3s\n",
      "[CV] END criterion=gini, max_depth=780, max_features=auto, min_samples_leaf=9, min_samples_split=7, n_estimators=1355; total time=   3.4s\n",
      "[CV] END criterion=gini, max_depth=780, max_features=auto, min_samples_leaf=9, min_samples_split=7, n_estimators=1355; total time=   3.2s\n",
      "[CV] END criterion=entropy, max_depth=120, max_features=log2, min_samples_leaf=2, min_samples_split=5, n_estimators=633; total time=   1.8s\n",
      "[CV] END criterion=entropy, max_depth=120, max_features=log2, min_samples_leaf=2, min_samples_split=5, n_estimators=633; total time=   1.8s\n",
      "[CV] END criterion=entropy, max_depth=120, max_features=log2, min_samples_leaf=2, min_samples_split=5, n_estimators=633; total time=   2.4s\n",
      "[CV] END criterion=entropy, max_depth=890, max_features=auto, min_samples_leaf=5, min_samples_split=10, n_estimators=1211; total time=   4.4s\n",
      "[CV] END criterion=entropy, max_depth=890, max_features=auto, min_samples_leaf=5, min_samples_split=10, n_estimators=1211; total time=   4.7s\n",
      "[CV] END criterion=entropy, max_depth=890, max_features=auto, min_samples_leaf=5, min_samples_split=10, n_estimators=1211; total time=   5.8s\n",
      "[CV] END criterion=gini, max_depth=10, max_features=auto, min_samples_leaf=2, min_samples_split=5, n_estimators=488; total time=   1.8s\n",
      "[CV] END criterion=gini, max_depth=10, max_features=auto, min_samples_leaf=2, min_samples_split=5, n_estimators=488; total time=   1.4s\n",
      "[CV] END criterion=gini, max_depth=10, max_features=auto, min_samples_leaf=2, min_samples_split=5, n_estimators=488; total time=   2.1s\n",
      "[CV] END criterion=gini, max_depth=120, max_features=auto, min_samples_leaf=5, min_samples_split=7, n_estimators=1500; total time=   4.6s\n",
      "[CV] END criterion=gini, max_depth=120, max_features=auto, min_samples_leaf=5, min_samples_split=7, n_estimators=1500; total time=   3.2s\n",
      "[CV] END criterion=gini, max_depth=120, max_features=auto, min_samples_leaf=5, min_samples_split=7, n_estimators=1500; total time=   3.4s\n",
      "[CV] END criterion=entropy, max_depth=120, max_features=sqrt, min_samples_leaf=9, min_samples_split=10, n_estimators=344; total time=   0.9s\n",
      "[CV] END criterion=entropy, max_depth=120, max_features=sqrt, min_samples_leaf=9, min_samples_split=10, n_estimators=344; total time=   0.7s\n",
      "[CV] END criterion=entropy, max_depth=120, max_features=sqrt, min_samples_leaf=9, min_samples_split=10, n_estimators=344; total time=   0.7s\n",
      "[CV] END criterion=entropy, max_depth=890, max_features=sqrt, min_samples_leaf=4, min_samples_split=2, n_estimators=777; total time=   2.2s\n",
      "[CV] END criterion=entropy, max_depth=890, max_features=sqrt, min_samples_leaf=4, min_samples_split=2, n_estimators=777; total time=   1.8s\n",
      "[CV] END criterion=entropy, max_depth=890, max_features=sqrt, min_samples_leaf=4, min_samples_split=2, n_estimators=777; total time=   1.8s\n",
      "[CV] END criterion=gini, max_depth=120, max_features=auto, min_samples_leaf=6, min_samples_split=10, n_estimators=922; total time=   2.1s\n",
      "[CV] END criterion=gini, max_depth=120, max_features=auto, min_samples_leaf=6, min_samples_split=10, n_estimators=922; total time=   1.9s\n",
      "[CV] END criterion=gini, max_depth=120, max_features=auto, min_samples_leaf=6, min_samples_split=10, n_estimators=922; total time=   1.9s\n",
      "[CV] END criterion=gini, max_depth=560, max_features=auto, min_samples_leaf=2, min_samples_split=2, n_estimators=1355; total time=   3.1s\n",
      "[CV] END criterion=gini, max_depth=560, max_features=auto, min_samples_leaf=2, min_samples_split=2, n_estimators=1355; total time=   3.3s\n",
      "[CV] END criterion=gini, max_depth=560, max_features=auto, min_samples_leaf=2, min_samples_split=2, n_estimators=1355; total time=   3.7s\n",
      "[CV] END criterion=gini, max_depth=780, max_features=auto, min_samples_leaf=9, min_samples_split=7, n_estimators=488; total time=   1.0s\n",
      "[CV] END criterion=gini, max_depth=780, max_features=auto, min_samples_leaf=9, min_samples_split=7, n_estimators=488; total time=   1.4s\n",
      "[CV] END criterion=gini, max_depth=780, max_features=auto, min_samples_leaf=9, min_samples_split=7, n_estimators=488; total time=   1.3s\n",
      "[CV] END criterion=gini, max_depth=10, max_features=sqrt, min_samples_leaf=6, min_samples_split=10, n_estimators=922; total time=   2.6s\n",
      "[CV] END criterion=gini, max_depth=10, max_features=sqrt, min_samples_leaf=6, min_samples_split=10, n_estimators=922; total time=   3.0s\n",
      "[CV] END criterion=gini, max_depth=10, max_features=sqrt, min_samples_leaf=6, min_samples_split=10, n_estimators=922; total time=   2.7s\n",
      "[CV] END criterion=entropy, max_depth=340, max_features=log2, min_samples_leaf=1, min_samples_split=2, n_estimators=344; total time=   1.3s\n",
      "[CV] END criterion=entropy, max_depth=340, max_features=log2, min_samples_leaf=1, min_samples_split=2, n_estimators=344; total time=   1.3s\n",
      "[CV] END criterion=entropy, max_depth=340, max_features=log2, min_samples_leaf=1, min_samples_split=2, n_estimators=344; total time=   1.4s\n",
      "[CV] END criterion=gini, max_depth=450, max_features=auto, min_samples_leaf=1, min_samples_split=7, n_estimators=1355; total time=   6.8s\n",
      "[CV] END criterion=gini, max_depth=450, max_features=auto, min_samples_leaf=1, min_samples_split=7, n_estimators=1355; total time=   3.8s\n",
      "[CV] END criterion=gini, max_depth=450, max_features=auto, min_samples_leaf=1, min_samples_split=7, n_estimators=1355; total time=   3.2s\n",
      "[CV] END criterion=gini, max_depth=1000, max_features=auto, min_samples_leaf=4, min_samples_split=7, n_estimators=922; total time=   2.2s\n",
      "[CV] END criterion=gini, max_depth=1000, max_features=auto, min_samples_leaf=4, min_samples_split=7, n_estimators=922; total time=   2.5s\n",
      "[CV] END criterion=gini, max_depth=1000, max_features=auto, min_samples_leaf=4, min_samples_split=7, n_estimators=922; total time=   3.9s\n",
      "[CV] END criterion=entropy, max_depth=230, max_features=sqrt, min_samples_leaf=6, min_samples_split=2, n_estimators=1066; total time=   2.5s\n",
      "[CV] END criterion=entropy, max_depth=230, max_features=sqrt, min_samples_leaf=6, min_samples_split=2, n_estimators=1066; total time=   2.4s\n",
      "[CV] END criterion=entropy, max_depth=230, max_features=sqrt, min_samples_leaf=6, min_samples_split=2, n_estimators=1066; total time=   3.1s\n",
      "[CV] END criterion=gini, max_depth=780, max_features=auto, min_samples_leaf=4, min_samples_split=10, n_estimators=777; total time=   1.6s\n",
      "[CV] END criterion=gini, max_depth=780, max_features=auto, min_samples_leaf=4, min_samples_split=10, n_estimators=777; total time=   1.6s\n",
      "[CV] END criterion=gini, max_depth=780, max_features=auto, min_samples_leaf=4, min_samples_split=10, n_estimators=777; total time=   1.6s\n",
      "[CV] END criterion=entropy, max_depth=340, max_features=sqrt, min_samples_leaf=2, min_samples_split=10, n_estimators=200; total time=   0.4s\n",
      "[CV] END criterion=entropy, max_depth=340, max_features=sqrt, min_samples_leaf=2, min_samples_split=10, n_estimators=200; total time=   0.4s\n",
      "[CV] END criterion=entropy, max_depth=340, max_features=sqrt, min_samples_leaf=2, min_samples_split=10, n_estimators=200; total time=   0.4s\n",
      "[CV] END criterion=gini, max_depth=340, max_features=log2, min_samples_leaf=2, min_samples_split=5, n_estimators=633; total time=   1.7s\n",
      "[CV] END criterion=gini, max_depth=340, max_features=log2, min_samples_leaf=2, min_samples_split=5, n_estimators=633; total time=   1.5s\n",
      "[CV] END criterion=gini, max_depth=340, max_features=log2, min_samples_leaf=2, min_samples_split=5, n_estimators=633; total time=   1.7s\n",
      "[CV] END criterion=gini, max_depth=230, max_features=log2, min_samples_leaf=4, min_samples_split=7, n_estimators=777; total time=   2.0s\n",
      "[CV] END criterion=gini, max_depth=230, max_features=log2, min_samples_leaf=4, min_samples_split=7, n_estimators=777; total time=   2.1s\n",
      "[CV] END criterion=gini, max_depth=230, max_features=log2, min_samples_leaf=4, min_samples_split=7, n_estimators=777; total time=   2.2s\n",
      "[CV] END criterion=gini, max_depth=780, max_features=sqrt, min_samples_leaf=9, min_samples_split=2, n_estimators=1211; total time=   5.4s\n",
      "[CV] END criterion=gini, max_depth=780, max_features=sqrt, min_samples_leaf=9, min_samples_split=2, n_estimators=1211; total time=   2.9s\n",
      "[CV] END criterion=gini, max_depth=780, max_features=sqrt, min_samples_leaf=9, min_samples_split=2, n_estimators=1211; total time=   2.6s\n",
      "[CV] END criterion=gini, max_depth=1000, max_features=log2, min_samples_leaf=9, min_samples_split=10, n_estimators=922; total time=   2.0s\n",
      "[CV] END criterion=gini, max_depth=1000, max_features=log2, min_samples_leaf=9, min_samples_split=10, n_estimators=922; total time=   2.1s\n",
      "[CV] END criterion=gini, max_depth=1000, max_features=log2, min_samples_leaf=9, min_samples_split=10, n_estimators=922; total time=   2.0s\n",
      "[CV] END criterion=entropy, max_depth=780, max_features=auto, min_samples_leaf=5, min_samples_split=10, n_estimators=200; total time=   0.4s\n",
      "[CV] END criterion=entropy, max_depth=780, max_features=auto, min_samples_leaf=5, min_samples_split=10, n_estimators=200; total time=   0.4s\n",
      "[CV] END criterion=entropy, max_depth=780, max_features=auto, min_samples_leaf=5, min_samples_split=10, n_estimators=200; total time=   0.4s\n",
      "[CV] END criterion=entropy, max_depth=1000, max_features=sqrt, min_samples_leaf=6, min_samples_split=7, n_estimators=922; total time=   2.4s\n",
      "[CV] END criterion=entropy, max_depth=1000, max_features=sqrt, min_samples_leaf=6, min_samples_split=7, n_estimators=922; total time=   2.3s\n",
      "[CV] END criterion=entropy, max_depth=1000, max_features=sqrt, min_samples_leaf=6, min_samples_split=7, n_estimators=922; total time=   2.8s\n",
      "[CV] END criterion=entropy, max_depth=890, max_features=sqrt, min_samples_leaf=4, min_samples_split=10, n_estimators=922; total time=   2.6s\n",
      "[CV] END criterion=entropy, max_depth=890, max_features=sqrt, min_samples_leaf=4, min_samples_split=10, n_estimators=922; total time=   2.7s\n",
      "[CV] END criterion=entropy, max_depth=890, max_features=sqrt, min_samples_leaf=4, min_samples_split=10, n_estimators=922; total time=   2.7s\n",
      "[CV] END criterion=gini, max_depth=1000, max_features=auto, min_samples_leaf=2, min_samples_split=7, n_estimators=1066; total time=   2.7s\n",
      "[CV] END criterion=gini, max_depth=1000, max_features=auto, min_samples_leaf=2, min_samples_split=7, n_estimators=1066; total time=   2.7s\n",
      "[CV] END criterion=gini, max_depth=1000, max_features=auto, min_samples_leaf=2, min_samples_split=7, n_estimators=1066; total time=   3.0s\n",
      "[CV] END criterion=gini, max_depth=890, max_features=log2, min_samples_leaf=4, min_samples_split=10, n_estimators=777; total time=   2.0s\n",
      "[CV] END criterion=gini, max_depth=890, max_features=log2, min_samples_leaf=4, min_samples_split=10, n_estimators=777; total time=   1.7s\n",
      "[CV] END criterion=gini, max_depth=890, max_features=log2, min_samples_leaf=4, min_samples_split=10, n_estimators=777; total time=   2.2s\n",
      "[CV] END criterion=gini, max_depth=560, max_features=auto, min_samples_leaf=1, min_samples_split=7, n_estimators=1500; total time=   4.0s\n",
      "[CV] END criterion=gini, max_depth=560, max_features=auto, min_samples_leaf=1, min_samples_split=7, n_estimators=1500; total time=   3.5s\n",
      "[CV] END criterion=gini, max_depth=560, max_features=auto, min_samples_leaf=1, min_samples_split=7, n_estimators=1500; total time=   4.5s\n",
      "[CV] END criterion=entropy, max_depth=340, max_features=log2, min_samples_leaf=6, min_samples_split=2, n_estimators=777; total time=   3.0s\n",
      "[CV] END criterion=entropy, max_depth=340, max_features=log2, min_samples_leaf=6, min_samples_split=2, n_estimators=777; total time=   2.6s\n",
      "[CV] END criterion=entropy, max_depth=340, max_features=log2, min_samples_leaf=6, min_samples_split=2, n_estimators=777; total time=   3.4s\n",
      "[CV] END criterion=entropy, max_depth=10, max_features=sqrt, min_samples_leaf=4, min_samples_split=7, n_estimators=488; total time=   1.4s\n",
      "[CV] END criterion=entropy, max_depth=10, max_features=sqrt, min_samples_leaf=4, min_samples_split=7, n_estimators=488; total time=   1.2s\n",
      "[CV] END criterion=entropy, max_depth=10, max_features=sqrt, min_samples_leaf=4, min_samples_split=7, n_estimators=488; total time=   1.9s\n",
      "[CV] END criterion=gini, max_depth=10, max_features=sqrt, min_samples_leaf=9, min_samples_split=10, n_estimators=488; total time=   1.4s\n",
      "[CV] END criterion=gini, max_depth=10, max_features=sqrt, min_samples_leaf=9, min_samples_split=10, n_estimators=488; total time=   1.3s\n",
      "[CV] END criterion=gini, max_depth=10, max_features=sqrt, min_samples_leaf=9, min_samples_split=10, n_estimators=488; total time=   1.0s\n",
      "[CV] END criterion=entropy, max_depth=890, max_features=log2, min_samples_leaf=9, min_samples_split=7, n_estimators=1211; total time=   2.7s\n",
      "[CV] END criterion=entropy, max_depth=890, max_features=log2, min_samples_leaf=9, min_samples_split=7, n_estimators=1211; total time=   3.3s\n",
      "[CV] END criterion=entropy, max_depth=890, max_features=log2, min_samples_leaf=9, min_samples_split=7, n_estimators=1211; total time=   3.0s\n",
      "[CV] END criterion=entropy, max_depth=120, max_features=log2, min_samples_leaf=9, min_samples_split=2, n_estimators=633; total time=   1.4s\n",
      "[CV] END criterion=entropy, max_depth=120, max_features=log2, min_samples_leaf=9, min_samples_split=2, n_estimators=633; total time=   1.4s\n",
      "[CV] END criterion=entropy, max_depth=120, max_features=log2, min_samples_leaf=9, min_samples_split=2, n_estimators=633; total time=   1.4s\n",
      "[CV] END criterion=entropy, max_depth=230, max_features=log2, min_samples_leaf=9, min_samples_split=5, n_estimators=922; total time=   2.6s\n",
      "[CV] END criterion=entropy, max_depth=230, max_features=log2, min_samples_leaf=9, min_samples_split=5, n_estimators=922; total time=   2.6s\n",
      "[CV] END criterion=entropy, max_depth=230, max_features=log2, min_samples_leaf=9, min_samples_split=5, n_estimators=922; total time=   2.6s\n",
      "[CV] END criterion=gini, max_depth=120, max_features=auto, min_samples_leaf=2, min_samples_split=2, n_estimators=344; total time=   0.9s\n",
      "[CV] END criterion=gini, max_depth=120, max_features=auto, min_samples_leaf=2, min_samples_split=2, n_estimators=344; total time=   0.8s\n",
      "[CV] END criterion=gini, max_depth=120, max_features=auto, min_samples_leaf=2, min_samples_split=2, n_estimators=344; total time=   0.7s\n",
      "[CV] END criterion=gini, max_depth=230, max_features=log2, min_samples_leaf=6, min_samples_split=7, n_estimators=488; total time=   1.0s\n",
      "[CV] END criterion=gini, max_depth=230, max_features=log2, min_samples_leaf=6, min_samples_split=7, n_estimators=488; total time=   1.5s\n",
      "[CV] END criterion=gini, max_depth=230, max_features=log2, min_samples_leaf=6, min_samples_split=7, n_estimators=488; total time=   1.2s\n",
      "[CV] END criterion=entropy, max_depth=670, max_features=log2, min_samples_leaf=4, min_samples_split=10, n_estimators=1500; total time=   4.1s\n",
      "[CV] END criterion=entropy, max_depth=670, max_features=log2, min_samples_leaf=4, min_samples_split=10, n_estimators=1500; total time=   4.3s\n",
      "[CV] END criterion=entropy, max_depth=670, max_features=log2, min_samples_leaf=4, min_samples_split=10, n_estimators=1500; total time=   4.4s\n",
      "[CV] END criterion=gini, max_depth=780, max_features=sqrt, min_samples_leaf=9, min_samples_split=5, n_estimators=200; total time=   0.5s\n",
      "[CV] END criterion=gini, max_depth=780, max_features=sqrt, min_samples_leaf=9, min_samples_split=5, n_estimators=200; total time=   0.4s\n",
      "[CV] END criterion=gini, max_depth=780, max_features=sqrt, min_samples_leaf=9, min_samples_split=5, n_estimators=200; total time=   0.4s\n",
      "[CV] END criterion=entropy, max_depth=450, max_features=log2, min_samples_leaf=1, min_samples_split=5, n_estimators=488; total time=   1.7s\n",
      "[CV] END criterion=entropy, max_depth=450, max_features=log2, min_samples_leaf=1, min_samples_split=5, n_estimators=488; total time=   1.3s\n",
      "[CV] END criterion=entropy, max_depth=450, max_features=log2, min_samples_leaf=1, min_samples_split=5, n_estimators=488; total time=   2.0s\n",
      "[CV] END criterion=entropy, max_depth=450, max_features=auto, min_samples_leaf=1, min_samples_split=7, n_estimators=1355; total time=   4.9s\n",
      "[CV] END criterion=entropy, max_depth=450, max_features=auto, min_samples_leaf=1, min_samples_split=7, n_estimators=1355; total time=   3.7s\n",
      "[CV] END criterion=entropy, max_depth=450, max_features=auto, min_samples_leaf=1, min_samples_split=7, n_estimators=1355; total time=   3.2s\n",
      "[CV] END criterion=entropy, max_depth=450, max_features=sqrt, min_samples_leaf=6, min_samples_split=5, n_estimators=1355; total time=   3.8s\n",
      "[CV] END criterion=entropy, max_depth=450, max_features=sqrt, min_samples_leaf=6, min_samples_split=5, n_estimators=1355; total time=   3.2s\n",
      "[CV] END criterion=entropy, max_depth=450, max_features=sqrt, min_samples_leaf=6, min_samples_split=5, n_estimators=1355; total time=   3.0s\n",
      "[CV] END criterion=gini, max_depth=670, max_features=auto, min_samples_leaf=2, min_samples_split=10, n_estimators=1355; total time=   2.9s\n",
      "[CV] END criterion=gini, max_depth=670, max_features=auto, min_samples_leaf=2, min_samples_split=10, n_estimators=1355; total time=   2.9s\n",
      "[CV] END criterion=gini, max_depth=670, max_features=auto, min_samples_leaf=2, min_samples_split=10, n_estimators=1355; total time=   2.9s\n",
      "[CV] END criterion=gini, max_depth=560, max_features=log2, min_samples_leaf=9, min_samples_split=7, n_estimators=633; total time=   1.3s\n",
      "[CV] END criterion=gini, max_depth=560, max_features=log2, min_samples_leaf=9, min_samples_split=7, n_estimators=633; total time=   1.3s\n",
      "[CV] END criterion=gini, max_depth=560, max_features=log2, min_samples_leaf=9, min_samples_split=7, n_estimators=633; total time=   1.3s\n",
      "[CV] END criterion=gini, max_depth=1000, max_features=auto, min_samples_leaf=2, min_samples_split=5, n_estimators=1211; total time=   2.6s\n",
      "[CV] END criterion=gini, max_depth=1000, max_features=auto, min_samples_leaf=2, min_samples_split=5, n_estimators=1211; total time=   3.4s\n",
      "[CV] END criterion=gini, max_depth=1000, max_features=auto, min_samples_leaf=2, min_samples_split=5, n_estimators=1211; total time=   3.8s\n",
      "[CV] END criterion=entropy, max_depth=450, max_features=log2, min_samples_leaf=9, min_samples_split=10, n_estimators=344; total time=   1.1s\n",
      "[CV] END criterion=entropy, max_depth=450, max_features=log2, min_samples_leaf=9, min_samples_split=10, n_estimators=344; total time=   1.3s\n",
      "[CV] END criterion=entropy, max_depth=450, max_features=log2, min_samples_leaf=9, min_samples_split=10, n_estimators=344; total time=   0.9s\n",
      "[CV] END criterion=entropy, max_depth=340, max_features=sqrt, min_samples_leaf=4, min_samples_split=2, n_estimators=200; total time=   0.9s\n",
      "[CV] END criterion=entropy, max_depth=340, max_features=sqrt, min_samples_leaf=4, min_samples_split=2, n_estimators=200; total time=   1.1s\n",
      "[CV] END criterion=entropy, max_depth=340, max_features=sqrt, min_samples_leaf=4, min_samples_split=2, n_estimators=200; total time=   0.8s\n",
      "[CV] END criterion=entropy, max_depth=450, max_features=auto, min_samples_leaf=4, min_samples_split=7, n_estimators=922; total time=   4.1s\n",
      "[CV] END criterion=entropy, max_depth=450, max_features=auto, min_samples_leaf=4, min_samples_split=7, n_estimators=922; total time=   4.3s\n",
      "[CV] END criterion=entropy, max_depth=450, max_features=auto, min_samples_leaf=4, min_samples_split=7, n_estimators=922; total time=   2.6s\n",
      "[CV] END criterion=entropy, max_depth=10, max_features=auto, min_samples_leaf=9, min_samples_split=2, n_estimators=344; total time=   0.8s\n",
      "[CV] END criterion=entropy, max_depth=10, max_features=auto, min_samples_leaf=9, min_samples_split=2, n_estimators=344; total time=   0.8s\n",
      "[CV] END criterion=entropy, max_depth=10, max_features=auto, min_samples_leaf=9, min_samples_split=2, n_estimators=344; total time=   0.9s\n",
      "[CV] END criterion=gini, max_depth=450, max_features=auto, min_samples_leaf=4, min_samples_split=7, n_estimators=1066; total time=   2.4s\n",
      "[CV] END criterion=gini, max_depth=450, max_features=auto, min_samples_leaf=4, min_samples_split=7, n_estimators=1066; total time=   2.2s\n",
      "[CV] END criterion=gini, max_depth=450, max_features=auto, min_samples_leaf=4, min_samples_split=7, n_estimators=1066; total time=   2.7s\n",
      "[CV] END criterion=gini, max_depth=10, max_features=auto, min_samples_leaf=4, min_samples_split=10, n_estimators=488; total time=   1.2s\n",
      "[CV] END criterion=gini, max_depth=10, max_features=auto, min_samples_leaf=4, min_samples_split=10, n_estimators=488; total time=   1.4s\n",
      "[CV] END criterion=gini, max_depth=10, max_features=auto, min_samples_leaf=4, min_samples_split=10, n_estimators=488; total time=   1.1s\n"
     ]
    },
    {
     "data": {
      "text/plain": [
       "RandomizedSearchCV(cv=3, estimator=RandomForestClassifier(), n_iter=100,\n",
       "                   param_distributions={'criterion': ['entropy', 'gini'],\n",
       "                                        'max_depth': [10, 120, 230, 340, 450,\n",
       "                                                      560, 670, 780, 890,\n",
       "                                                      1000],\n",
       "                                        'max_features': ['auto', 'sqrt',\n",
       "                                                         'log2'],\n",
       "                                        'min_samples_leaf': [1, 2, 6, 4, 5, 9],\n",
       "                                        'min_samples_split': [2, 5, 7, 10],\n",
       "                                        'n_estimators': [200, 344, 488, 633,\n",
       "                                                         777, 922, 1066, 1211,\n",
       "                                                         1355, 1500]},\n",
       "                   verbose=2)"
      ]
     },
     "execution_count": 22,
     "metadata": {},
     "output_type": "execute_result"
    }
   ],
   "source": [
    "model_rf = RandomForestClassifier()\n",
    "model_rf_randomcv=RandomizedSearchCV(estimator=model_rf,param_distributions=random_grid,n_iter=100,cv=3,verbose=2)\n",
    "model_rf_randomcv.fit(x_train,y_train)"
   ]
  },
  {
   "cell_type": "code",
   "execution_count": 24,
   "id": "5a2d596b",
   "metadata": {},
   "outputs": [
    {
     "data": {
      "text/plain": [
       "{'n_estimators': 344,\n",
       " 'min_samples_split': 5,\n",
       " 'min_samples_leaf': 9,\n",
       " 'max_features': 'auto',\n",
       " 'max_depth': 230,\n",
       " 'criterion': 'entropy'}"
      ]
     },
     "execution_count": 24,
     "metadata": {},
     "output_type": "execute_result"
    }
   ],
   "source": [
    "model_rf_randomcv.best_params_"
   ]
  },
  {
   "cell_type": "code",
   "execution_count": 25,
   "id": "626a276d",
   "metadata": {},
   "outputs": [
    {
     "data": {
      "text/plain": [
       "RandomizedSearchCV(cv=3, estimator=RandomForestClassifier(), n_iter=100,\n",
       "                   param_distributions={'criterion': ['entropy', 'gini'],\n",
       "                                        'max_depth': [10, 120, 230, 340, 450,\n",
       "                                                      560, 670, 780, 890,\n",
       "                                                      1000],\n",
       "                                        'max_features': ['auto', 'sqrt',\n",
       "                                                         'log2'],\n",
       "                                        'min_samples_leaf': [1, 2, 6, 4, 5, 9],\n",
       "                                        'min_samples_split': [2, 5, 7, 10],\n",
       "                                        'n_estimators': [200, 344, 488, 633,\n",
       "                                                         777, 922, 1066, 1211,\n",
       "                                                         1355, 1500]},\n",
       "                   verbose=2)"
      ]
     },
     "execution_count": 25,
     "metadata": {},
     "output_type": "execute_result"
    }
   ],
   "source": [
    "model_rf_randomcv"
   ]
  },
  {
   "cell_type": "code",
   "execution_count": 26,
   "id": "d9a6ed64",
   "metadata": {},
   "outputs": [],
   "source": [
    "best_random_grid=model_rf_randomcv.best_estimator_"
   ]
  },
  {
   "cell_type": "code",
   "execution_count": 27,
   "id": "1445a1ea",
   "metadata": {},
   "outputs": [
    {
     "name": "stdout",
     "output_type": "stream",
     "text": [
      "[[89  6]\n",
      " [31 28]]\n",
      "Accuracy Score 0.7597402597402597\n",
      "Classification report:               precision    recall  f1-score   support\n",
      "\n",
      "           0       0.74      0.94      0.83        95\n",
      "           1       0.82      0.47      0.60        59\n",
      "\n",
      "    accuracy                           0.76       154\n",
      "   macro avg       0.78      0.71      0.72       154\n",
      "weighted avg       0.77      0.76      0.74       154\n",
      "\n"
     ]
    }
   ],
   "source": [
    "from sklearn.metrics import accuracy_score\n",
    "y_pred = best_random_grid.predict(x_test)\n",
    "print(confusion_matrix(y_test,y_pred))\n",
    "print(\"Accuracy Score {}\".format(accuracy_score(y_test,y_pred)))\n",
    "print(\"Classification report: {}\".format(classification_report(y_test,y_pred)))"
   ]
  },
  {
   "cell_type": "markdown",
   "id": "30bc34fd",
   "metadata": {},
   "source": [
    "# #### GridSearch CV\n"
   ]
  },
  {
   "cell_type": "code",
   "execution_count": 28,
   "id": "4f1c0c85",
   "metadata": {},
   "outputs": [
    {
     "data": {
      "text/plain": [
       "RandomizedSearchCV(cv=3, estimator=RandomForestClassifier(), n_iter=100,\n",
       "                   param_distributions={'criterion': ['entropy', 'gini'],\n",
       "                                        'max_depth': [10, 120, 230, 340, 450,\n",
       "                                                      560, 670, 780, 890,\n",
       "                                                      1000],\n",
       "                                        'max_features': ['auto', 'sqrt',\n",
       "                                                         'log2'],\n",
       "                                        'min_samples_leaf': [1, 2, 6, 4, 5, 9],\n",
       "                                        'min_samples_split': [2, 5, 7, 10],\n",
       "                                        'n_estimators': [200, 344, 488, 633,\n",
       "                                                         777, 922, 1066, 1211,\n",
       "                                                         1355, 1500]},\n",
       "                   verbose=2)"
      ]
     },
     "execution_count": 28,
     "metadata": {},
     "output_type": "execute_result"
    }
   ],
   "source": [
    "model_rf_randomcv"
   ]
  },
  {
   "cell_type": "code",
   "execution_count": 29,
   "id": "d83a3f63",
   "metadata": {},
   "outputs": [],
   "source": [
    "from sklearn.model_selection import GridSearchCV"
   ]
  },
  {
   "cell_type": "code",
   "execution_count": 32,
   "id": "864fcdf1",
   "metadata": {},
   "outputs": [
    {
     "name": "stdout",
     "output_type": "stream",
     "text": [
      "{'criterion': ['entropy'], 'max_depth': [230], 'max_features': ['auto'], 'min_samples_leaf': [9, 11, 13], 'min_samples_split': [5, 3, 4, 6, 7], 'n_estimators': [144, 244, 344, 444, 544]}\n"
     ]
    }
   ],
   "source": [
    "param_grid={\n",
    "    'criterion':[model_rf_randomcv.best_params_['criterion']],\n",
    "    'max_depth':[model_rf_randomcv.best_params_['max_depth']],\n",
    "    'max_features':[model_rf_randomcv.best_params_['max_features']],\n",
    "    'min_samples_leaf':[model_rf_randomcv.best_params_['min_samples_leaf'],\n",
    "                        model_rf_randomcv.best_params_['min_samples_leaf']+2,\n",
    "                        model_rf_randomcv.best_params_['min_samples_leaf']+4],\n",
    "    'min_samples_split':[model_rf_randomcv.best_params_['min_samples_split'],\n",
    "                         model_rf_randomcv.best_params_['min_samples_split']-2,\n",
    "                         model_rf_randomcv.best_params_['min_samples_split']-1,\n",
    "                         model_rf_randomcv.best_params_['min_samples_split']+1,\n",
    "                         model_rf_randomcv.best_params_['min_samples_split']+2],\n",
    "    'n_estimators':[model_rf_randomcv.best_params_['n_estimators']-200,\n",
    "                    model_rf_randomcv.best_params_['n_estimators']-100,\n",
    "                    model_rf_randomcv.best_params_['n_estimators'],\n",
    "                    model_rf_randomcv.best_params_['n_estimators']+100,\n",
    "                    model_rf_randomcv.best_params_['n_estimators']+200]\n",
    "}\n",
    "print(param_grid)                    \n",
    "    \n",
    "                        \n",
    "                        \n",
    "\n"
   ]
  },
  {
   "cell_type": "code",
   "execution_count": 33,
   "id": "dc48bd8c",
   "metadata": {},
   "outputs": [
    {
     "ename": "AttributeError",
     "evalue": "'dict' object has no attribute 'best_params_'",
     "output_type": "error",
     "traceback": [
      "\u001b[1;31m---------------------------------------------------------------------------\u001b[0m",
      "\u001b[1;31mAttributeError\u001b[0m                            Traceback (most recent call last)",
      "\u001b[1;32m~\\AppData\\Local\\Temp/ipykernel_7216/2792799344.py\u001b[0m in \u001b[0;36m<module>\u001b[1;34m\u001b[0m\n\u001b[1;32m----> 1\u001b[1;33m \u001b[0mparam_grid\u001b[0m\u001b[1;33m.\u001b[0m\u001b[0mbest_params_\u001b[0m\u001b[1;33m\u001b[0m\u001b[1;33m\u001b[0m\u001b[0m\n\u001b[0m",
      "\u001b[1;31mAttributeError\u001b[0m: 'dict' object has no attribute 'best_params_'"
     ]
    }
   ],
   "source": [
    "rf=RandomForestClassifier()\n",
    "grid_search=GridSearchCV(estimator=rf,param_grid=param_grid,cv=10,n_jobs=-1,verbose=2)\n",
    "grid_search.fit(X_train,y_train)\n"
   ]
  },
  {
   "cell_type": "code",
   "execution_count": 36,
   "id": "a4c2d249",
   "metadata": {},
   "outputs": [
    {
     "name": "stdout",
     "output_type": "stream",
     "text": [
      "Fitting 5 folds for each of 75 candidates, totalling 375 fits\n"
     ]
    },
    {
     "data": {
      "text/plain": [
       "GridSearchCV(estimator=RandomForestClassifier(), n_jobs=-1,\n",
       "             param_grid={'criterion': ['entropy'], 'max_depth': [230],\n",
       "                         'max_features': ['auto'],\n",
       "                         'min_samples_leaf': [9, 11, 13],\n",
       "                         'min_samples_split': [5, 3, 4, 6, 7],\n",
       "                         'n_estimators': [144, 244, 344, 444, 544]},\n",
       "             verbose=2)"
      ]
     },
     "execution_count": 36,
     "metadata": {},
     "output_type": "execute_result"
    }
   ],
   "source": [
    "rf=RandomForestClassifier()\n",
    "grid_serach = GridSearchCV(estimator=rf,param_grid=param_grid,n_jobs=-1,verbose=2)\n",
    "grid_serach.fit(x_train,y_train)"
   ]
  },
  {
   "cell_type": "code",
   "execution_count": 38,
   "id": "c162d7f8",
   "metadata": {},
   "outputs": [
    {
     "data": {
      "text/plain": [
       "RandomForestClassifier(criterion='entropy', max_depth=230, min_samples_leaf=11,\n",
       "                       min_samples_split=5, n_estimators=144)"
      ]
     },
     "execution_count": 38,
     "metadata": {},
     "output_type": "execute_result"
    }
   ],
   "source": [
    "grid_serach.best_estimator_"
   ]
  },
  {
   "cell_type": "code",
   "execution_count": 39,
   "id": "80a68500",
   "metadata": {},
   "outputs": [],
   "source": [
    "best_grid_search = grid_serach.best_estimator_"
   ]
  },
  {
   "cell_type": "code",
   "execution_count": 40,
   "id": "1922f0ad",
   "metadata": {},
   "outputs": [
    {
     "name": "stdout",
     "output_type": "stream",
     "text": [
      "[[88  7]\n",
      " [30 29]]\n",
      "Accuracy Score 0.7597402597402597\n",
      "Classification report:               precision    recall  f1-score   support\n",
      "\n",
      "           0       0.75      0.93      0.83        95\n",
      "           1       0.81      0.49      0.61        59\n",
      "\n",
      "    accuracy                           0.76       154\n",
      "   macro avg       0.78      0.71      0.72       154\n",
      "weighted avg       0.77      0.76      0.74       154\n",
      "\n"
     ]
    }
   ],
   "source": [
    "y_pred = best_grid_search.predict(x_test)\n",
    "print(confusion_matrix(y_test,y_pred))\n",
    "print(\"Accuracy Score {}\".format(accuracy_score(y_test,y_pred)))\n",
    "print(\"Classification report: {}\".format(classification_report(y_test,y_pred)))"
   ]
  },
  {
   "cell_type": "code",
   "execution_count": null,
   "id": "b2d37aca",
   "metadata": {},
   "outputs": [],
   "source": [
    "11) Create a model \n"
   ]
  },
  {
   "cell_type": "code",
   "execution_count": null,
   "id": "2d8110ef",
   "metadata": {},
   "outputs": [],
   "source": []
  },
  {
   "cell_type": "code",
   "execution_count": null,
   "id": "559753ce",
   "metadata": {},
   "outputs": [],
   "source": []
  }
 ],
 "metadata": {
  "kernelspec": {
   "display_name": "Python 3 (ipykernel)",
   "language": "python",
   "name": "python3"
  },
  "language_info": {
   "codemirror_mode": {
    "name": "ipython",
    "version": 3
   },
   "file_extension": ".py",
   "mimetype": "text/x-python",
   "name": "python",
   "nbconvert_exporter": "python",
   "pygments_lexer": "ipython3",
   "version": "3.9.7"
  }
 },
 "nbformat": 4,
 "nbformat_minor": 5
}
